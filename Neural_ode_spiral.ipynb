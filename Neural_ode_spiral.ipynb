{
  "nbformat": 4,
  "nbformat_minor": 0,
  "metadata": {
    "colab": {
      "name": "Neural_ode_spiral.ipynb",
      "provenance": [],
      "machine_shape": "hm"
    },
    "kernelspec": {
      "name": "python3",
      "display_name": "Python 3"
    },
    "language_info": {
      "name": "python"
    },
    "accelerator": "GPU"
  },
  "cells": [
    {
      "cell_type": "code",
      "metadata": {
        "colab": {
          "base_uri": "https://localhost:8080/"
        },
        "id": "hqhEXKmV_mKD",
        "outputId": "899d06b9-e4ff-4133-a315-9c441bc998b2"
      },
      "source": [
        "from google.colab import drive\n",
        "drive.mount('/content/gdrive')"
      ],
      "execution_count": 1,
      "outputs": [
        {
          "output_type": "stream",
          "text": [
            "Mounted at /content/gdrive\n"
          ],
          "name": "stdout"
        }
      ]
    },
    {
      "cell_type": "code",
      "metadata": {
        "colab": {
          "base_uri": "https://localhost:8080/"
        },
        "id": "9ZtMYqDwAgZv",
        "outputId": "c15f8124-561a-40cc-84fc-23612727e132"
      },
      "source": [
        "ls"
      ],
      "execution_count": 106,
      "outputs": [
        {
          "output_type": "stream",
          "text": [
            "bouncing_ball.png  \u001b[0m\u001b[01;34mexperiment1\u001b[0m/  \u001b[01;34mgdrive\u001b[0m/  \u001b[01;34msample_data\u001b[0m/\n"
          ],
          "name": "stdout"
        }
      ]
    },
    {
      "cell_type": "code",
      "metadata": {
        "colab": {
          "base_uri": "https://localhost:8080/"
        },
        "id": "QuL8q6O-Ao-O",
        "outputId": "647fcdee-0108-47d6-d2e0-fd6484c947ff"
      },
      "source": [
        "cd gdrive/"
      ],
      "execution_count": 2,
      "outputs": [
        {
          "output_type": "stream",
          "text": [
            "/content/gdrive\n"
          ],
          "name": "stdout"
        }
      ]
    },
    {
      "cell_type": "code",
      "metadata": {
        "colab": {
          "base_uri": "https://localhost:8080/"
        },
        "id": "nm6B6MpgAtA9",
        "outputId": "4a4fa81a-f47b-4f29-8540-077549a5e7bc"
      },
      "source": [
        "ls"
      ],
      "execution_count": 3,
      "outputs": [
        {
          "output_type": "stream",
          "text": [
            "\u001b[0m\u001b[01;34mMyDrive\u001b[0m/\n"
          ],
          "name": "stdout"
        }
      ]
    },
    {
      "cell_type": "code",
      "metadata": {
        "colab": {
          "base_uri": "https://localhost:8080/"
        },
        "id": "P00RGSYeAtbQ",
        "outputId": "007d1283-2435-400b-c8c3-2a93b4c57963"
      },
      "source": [
        "cd MyDrive/"
      ],
      "execution_count": 4,
      "outputs": [
        {
          "output_type": "stream",
          "text": [
            "/content/gdrive/MyDrive\n"
          ],
          "name": "stdout"
        }
      ]
    },
    {
      "cell_type": "code",
      "metadata": {
        "colab": {
          "base_uri": "https://localhost:8080/"
        },
        "id": "0y1lVFDdAuz2",
        "outputId": "9a5a1d1d-a756-4a6e-e204-7136d6fad4a7"
      },
      "source": [
        "pip install torchdiffeq"
      ],
      "execution_count": 5,
      "outputs": [
        {
          "output_type": "stream",
          "text": [
            "Collecting torchdiffeq\n",
            "  Downloading torchdiffeq-0.2.2-py3-none-any.whl (31 kB)\n",
            "Requirement already satisfied: scipy>=1.4.0 in /usr/local/lib/python3.7/dist-packages (from torchdiffeq) (1.4.1)\n",
            "Requirement already satisfied: torch>=1.3.0 in /usr/local/lib/python3.7/dist-packages (from torchdiffeq) (1.9.0+cu102)\n",
            "Requirement already satisfied: numpy>=1.13.3 in /usr/local/lib/python3.7/dist-packages (from scipy>=1.4.0->torchdiffeq) (1.19.5)\n",
            "Requirement already satisfied: typing-extensions in /usr/local/lib/python3.7/dist-packages (from torch>=1.3.0->torchdiffeq) (3.7.4.3)\n",
            "Installing collected packages: torchdiffeq\n",
            "Successfully installed torchdiffeq-0.2.2\n"
          ],
          "name": "stdout"
        }
      ]
    },
    {
      "cell_type": "code",
      "metadata": {
        "colab": {
          "base_uri": "https://localhost:8080/"
        },
        "id": "wAT-Ui3eAwZU",
        "outputId": "a4bb419c-3a44-49d5-f05c-ee86e014698e"
      },
      "source": [
        "pip install tensorflow_probability"
      ],
      "execution_count": 113,
      "outputs": [
        {
          "output_type": "stream",
          "text": [
            "Requirement already satisfied: tensorflow_probability in /usr/local/lib/python3.7/dist-packages (0.13.0)\n",
            "Requirement already satisfied: numpy>=1.13.3 in /usr/local/lib/python3.7/dist-packages (from tensorflow_probability) (1.19.5)\n",
            "Requirement already satisfied: six>=1.10.0 in /usr/local/lib/python3.7/dist-packages (from tensorflow_probability) (1.15.0)\n",
            "Requirement already satisfied: gast>=0.3.2 in /usr/local/lib/python3.7/dist-packages (from tensorflow_probability) (0.4.0)\n",
            "Requirement already satisfied: cloudpickle>=1.3 in /usr/local/lib/python3.7/dist-packages (from tensorflow_probability) (1.3.0)\n",
            "Requirement already satisfied: decorator in /usr/local/lib/python3.7/dist-packages (from tensorflow_probability) (4.4.2)\n",
            "Requirement already satisfied: dm-tree in /usr/local/lib/python3.7/dist-packages (from tensorflow_probability) (0.1.6)\n"
          ],
          "name": "stdout"
        }
      ]
    },
    {
      "cell_type": "code",
      "metadata": {
        "colab": {
          "base_uri": "https://localhost:8080/"
        },
        "id": "DKkXDr7SBWlI",
        "outputId": "a0162fd8-1219-4a3b-d168-b5cf0813a460"
      },
      "source": [
        "pip install hickle==3.4"
      ],
      "execution_count": 115,
      "outputs": [
        {
          "output_type": "stream",
          "text": [
            "Collecting hickle==3.4\n",
            "  Downloading hickle-3.4.0.tar.gz (25 kB)\n",
            "Requirement already satisfied: numpy in /usr/local/lib/python3.7/dist-packages (from hickle==3.4) (1.19.5)\n",
            "Requirement already satisfied: h5py in /usr/local/lib/python3.7/dist-packages (from hickle==3.4) (3.1.0)\n",
            "Requirement already satisfied: cached-property in /usr/local/lib/python3.7/dist-packages (from h5py->hickle==3.4) (1.5.2)\n",
            "Building wheels for collected packages: hickle\n",
            "  Building wheel for hickle (setup.py) ... \u001b[?25l\u001b[?25hdone\n",
            "  Created wheel for hickle: filename=hickle-3.4.0-py3-none-any.whl size=31625 sha256=d21d9a1aa0baf860f9dc3ced05c167c969ba2528b5c0bca0499130b16733172b\n",
            "  Stored in directory: /root/.cache/pip/wheels/8b/8e/90/9662ef4bc699029970c0b7957b9bbcf1b58ffcd063ebba9b9d\n",
            "Successfully built hickle\n",
            "Installing collected packages: hickle\n",
            "Successfully installed hickle-3.4.0\n"
          ],
          "name": "stdout"
        }
      ]
    },
    {
      "cell_type": "code",
      "metadata": {
        "colab": {
          "base_uri": "https://localhost:8080/"
        },
        "id": "VbU2KfMzBbxp",
        "outputId": "68bb3195-4f25-458d-aafc-b71f0a176728"
      },
      "source": [
        "pip install python==3.7"
      ],
      "execution_count": 116,
      "outputs": [
        {
          "output_type": "stream",
          "text": [
            "\u001b[31mERROR: Could not find a version that satisfies the requirement python==3.7 (from versions: none)\u001b[0m\n",
            "\u001b[31mERROR: No matching distribution found for python==3.7\u001b[0m\n"
          ],
          "name": "stdout"
        }
      ]
    },
    {
      "cell_type": "code",
      "metadata": {
        "colab": {
          "base_uri": "https://localhost:8080/"
        },
        "id": "X9dp8zneBnba",
        "outputId": "99e536fd-d7fe-4bbd-b81f-7f452f9b9d98"
      },
      "source": [
        "!git clone https://github.com/cagatayyildiz/ODE2VAE.git"
      ],
      "execution_count": 117,
      "outputs": [
        {
          "output_type": "stream",
          "text": [
            "Cloning into 'ODE2VAE'...\n",
            "remote: Enumerating objects: 218, done.\u001b[K\n",
            "remote: Counting objects: 100% (6/6), done.\u001b[K\n",
            "remote: Compressing objects: 100% (6/6), done.\u001b[K\n",
            "remote: Total 218 (delta 2), reused 1 (delta 0), pack-reused 212\u001b[K\n",
            "Receiving objects: 100% (218/218), 78.33 MiB | 23.65 MiB/s, done.\n",
            "Resolving deltas: 100% (98/98), done.\n"
          ],
          "name": "stdout"
        }
      ]
    },
    {
      "cell_type": "code",
      "metadata": {
        "colab": {
          "base_uri": "https://localhost:8080/"
        },
        "id": "6csaygSOBzSi",
        "outputId": "84f12d48-2788-4fd1-a137-aa3c0f6b8b17"
      },
      "source": [
        "cd ODE2VAE/"
      ],
      "execution_count": 118,
      "outputs": [
        {
          "output_type": "stream",
          "text": [
            "/content/gdrive/My Drive/ODE2VAE\n"
          ],
          "name": "stdout"
        }
      ]
    },
    {
      "cell_type": "code",
      "metadata": {
        "colab": {
          "base_uri": "https://localhost:8080/"
        },
        "id": "brLkyRS9B3CR",
        "outputId": "bf8506b9-65f0-42f6-d6ae-2a2a0cf6a9db"
      },
      "source": [
        "ls"
      ],
      "execution_count": 119,
      "outputs": [
        {
          "output_type": "stream",
          "text": [
            "\u001b[0m\u001b[01;34mimages\u001b[0m/  ode2vae_poster.pdf  \u001b[01;34mscripts\u001b[0m/  torch_bnn.py              train.py\n",
            "\u001b[01;34mmodel\u001b[0m/   README.md           test.py   torch_ode2vae_minimal.py\n"
          ],
          "name": "stdout"
        }
      ]
    },
    {
      "cell_type": "code",
      "metadata": {
        "colab": {
          "base_uri": "https://localhost:8080/"
        },
        "id": "xvfI9bhUB3Vx",
        "outputId": "3eaa1285-8d7b-4300-c480-6055037b6a9e"
      },
      "source": [
        "ls"
      ],
      "execution_count": 120,
      "outputs": [
        {
          "output_type": "stream",
          "text": [
            "\u001b[0m\u001b[01;34mimages\u001b[0m/             README.md         test.py                   train.py\n",
            "\u001b[01;34mmodel\u001b[0m/              rot-mnist-3s.mat  torch_bnn.py\n",
            "ode2vae_poster.pdf  \u001b[01;34mscripts\u001b[0m/          torch_ode2vae_minimal.py\n"
          ],
          "name": "stdout"
        }
      ]
    },
    {
      "cell_type": "code",
      "metadata": {
        "colab": {
          "base_uri": "https://localhost:8080/"
        },
        "id": "kYul0xXCCtb0",
        "outputId": "81e5f267-154f-494b-d5ea-4cb3139b0a1c"
      },
      "source": [
        "cd scripts/"
      ],
      "execution_count": 123,
      "outputs": [
        {
          "output_type": "stream",
          "text": [
            "/content/gdrive/My Drive/ODE2VAE/scripts\n"
          ],
          "name": "stdout"
        }
      ]
    },
    {
      "cell_type": "code",
      "metadata": {
        "colab": {
          "base_uri": "https://localhost:8080/"
        },
        "id": "n9vtftjVC1Wm",
        "outputId": "88550a3d-61bb-4f7f-f833-697b1f74bc1a"
      },
      "source": [
        "ls"
      ],
      "execution_count": 124,
      "outputs": [
        {
          "output_type": "stream",
          "text": [
            "test_bballs.sh            test_mocap_single.sh       train_mocap_many.sh\n",
            "test_mnist_nonuniform.sh  train_bballs.sh            train_mocap_single.sh\n",
            "test_mnist.sh             train_mnist_nonuniform.sh\n",
            "test_mocap_many.sh        train_mnist.sh\n"
          ],
          "name": "stdout"
        }
      ]
    },
    {
      "cell_type": "code",
      "metadata": {
        "colab": {
          "base_uri": "https://localhost:8080/"
        },
        "id": "gGvGNgQlC7RN",
        "outputId": "212b3c96-e7db-437d-ead8-ce4389192880"
      },
      "source": [
        "!train_bballs.sh"
      ],
      "execution_count": 133,
      "outputs": [
        {
          "output_type": "stream",
          "text": [
            "/bin/bash: train_bballs.sh: command not found\n"
          ],
          "name": "stdout"
        }
      ]
    },
    {
      "cell_type": "code",
      "metadata": {
        "id": "0UP0tOB-C_uL"
      },
      "source": [
        "import os\n",
        "import argparse\n",
        "import time\n",
        "import numpy as np\n",
        "\n",
        "import torch\n",
        "import torch.nn as nn\n",
        "import torch.optim as optim\n",
        "\n",
        "parser = argparse.ArgumentParser('ODE demo')\n",
        "parser.add_argument('--method', type=str, choices=['dopri5', 'adams'], default='dopri5')\n",
        "parser.add_argument('--data_size', type=int, default=1000)\n",
        "parser.add_argument('--batch_time', type=int, default=10)\n",
        "parser.add_argument('--batch_size', type=int, default=20)\n",
        "parser.add_argument('--niters', type=int, default=2000)\n",
        "parser.add_argument('--test_freq', type=int, default=20)\n",
        "parser.add_argument('--viz', action='store_true')\n",
        "parser.add_argument('--gpu', type=int, default=0)\n",
        "parser.add_argument('--adjoint', action='store_true',default=True)\n",
        "args = parser.parse_args(args=[])"
      ],
      "execution_count": 6,
      "outputs": []
    },
    {
      "cell_type": "code",
      "metadata": {
        "colab": {
          "base_uri": "https://localhost:8080/"
        },
        "id": "yw6mw1nEmgUX",
        "outputId": "cb80ed93-d883-4f81-a7e2-c54dcff11919"
      },
      "source": [
        "args.adjoint"
      ],
      "execution_count": 7,
      "outputs": [
        {
          "output_type": "execute_result",
          "data": {
            "text/plain": [
              "True"
            ]
          },
          "metadata": {
            "tags": []
          },
          "execution_count": 7
        }
      ]
    },
    {
      "cell_type": "code",
      "metadata": {
        "id": "LhL7V1iQVm-X"
      },
      "source": [
        "if args.adjoint:\n",
        "    from torchdiffeq import odeint_adjoint as odeint\n",
        "else:\n",
        "    from torchdiffeq import odeint\n",
        "\n",
        "device = torch.device('cuda:' + str(args.gpu) if torch.cuda.is_available() else 'cpu')"
      ],
      "execution_count": 8,
      "outputs": []
    },
    {
      "cell_type": "code",
      "metadata": {
        "id": "SKUhzinFXFlA"
      },
      "source": [
        "true_y0 = torch.tensor([[2., 0.]]).to(device)\n",
        "t = torch.linspace(0., 25., args.data_size).to(device)\n",
        "true_A = torch.tensor([[-0.1, 2.0], [-2.0, -0.1]]).to(device)"
      ],
      "execution_count": 9,
      "outputs": []
    },
    {
      "cell_type": "code",
      "metadata": {
        "colab": {
          "base_uri": "https://localhost:8080/"
        },
        "id": "7fy8dvS7Xda_",
        "outputId": "c83aebe5-e580-499c-b382-07446c3a41ae"
      },
      "source": [
        "t"
      ],
      "execution_count": 10,
      "outputs": [
        {
          "output_type": "execute_result",
          "data": {
            "text/plain": [
              "tensor([ 0.0000,  0.0250,  0.0501,  0.0751,  0.1001,  0.1251,  0.1502,  0.1752,\n",
              "         0.2002,  0.2252,  0.2503,  0.2753,  0.3003,  0.3253,  0.3504,  0.3754,\n",
              "         0.4004,  0.4254,  0.4505,  0.4755,  0.5005,  0.5255,  0.5506,  0.5756,\n",
              "         0.6006,  0.6256,  0.6507,  0.6757,  0.7007,  0.7257,  0.7508,  0.7758,\n",
              "         0.8008,  0.8258,  0.8509,  0.8759,  0.9009,  0.9259,  0.9510,  0.9760,\n",
              "         1.0010,  1.0260,  1.0511,  1.0761,  1.1011,  1.1261,  1.1512,  1.1762,\n",
              "         1.2012,  1.2262,  1.2513,  1.2763,  1.3013,  1.3263,  1.3514,  1.3764,\n",
              "         1.4014,  1.4264,  1.4515,  1.4765,  1.5015,  1.5265,  1.5516,  1.5766,\n",
              "         1.6016,  1.6266,  1.6517,  1.6767,  1.7017,  1.7267,  1.7518,  1.7768,\n",
              "         1.8018,  1.8268,  1.8519,  1.8769,  1.9019,  1.9269,  1.9520,  1.9770,\n",
              "         2.0020,  2.0270,  2.0521,  2.0771,  2.1021,  2.1271,  2.1522,  2.1772,\n",
              "         2.2022,  2.2272,  2.2523,  2.2773,  2.3023,  2.3273,  2.3524,  2.3774,\n",
              "         2.4024,  2.4274,  2.4525,  2.4775,  2.5025,  2.5275,  2.5526,  2.5776,\n",
              "         2.6026,  2.6276,  2.6527,  2.6777,  2.7027,  2.7277,  2.7528,  2.7778,\n",
              "         2.8028,  2.8278,  2.8529,  2.8779,  2.9029,  2.9279,  2.9530,  2.9780,\n",
              "         3.0030,  3.0280,  3.0531,  3.0781,  3.1031,  3.1281,  3.1532,  3.1782,\n",
              "         3.2032,  3.2282,  3.2533,  3.2783,  3.3033,  3.3283,  3.3534,  3.3784,\n",
              "         3.4034,  3.4284,  3.4535,  3.4785,  3.5035,  3.5285,  3.5536,  3.5786,\n",
              "         3.6036,  3.6286,  3.6537,  3.6787,  3.7037,  3.7287,  3.7538,  3.7788,\n",
              "         3.8038,  3.8288,  3.8539,  3.8789,  3.9039,  3.9289,  3.9540,  3.9790,\n",
              "         4.0040,  4.0290,  4.0541,  4.0791,  4.1041,  4.1291,  4.1542,  4.1792,\n",
              "         4.2042,  4.2292,  4.2543,  4.2793,  4.3043,  4.3293,  4.3544,  4.3794,\n",
              "         4.4044,  4.4294,  4.4545,  4.4795,  4.5045,  4.5295,  4.5546,  4.5796,\n",
              "         4.6046,  4.6296,  4.6547,  4.6797,  4.7047,  4.7297,  4.7548,  4.7798,\n",
              "         4.8048,  4.8298,  4.8549,  4.8799,  4.9049,  4.9299,  4.9550,  4.9800,\n",
              "         5.0050,  5.0300,  5.0551,  5.0801,  5.1051,  5.1301,  5.1552,  5.1802,\n",
              "         5.2052,  5.2302,  5.2553,  5.2803,  5.3053,  5.3303,  5.3554,  5.3804,\n",
              "         5.4054,  5.4304,  5.4555,  5.4805,  5.5055,  5.5305,  5.5556,  5.5806,\n",
              "         5.6056,  5.6306,  5.6557,  5.6807,  5.7057,  5.7307,  5.7558,  5.7808,\n",
              "         5.8058,  5.8308,  5.8559,  5.8809,  5.9059,  5.9309,  5.9560,  5.9810,\n",
              "         6.0060,  6.0310,  6.0561,  6.0811,  6.1061,  6.1311,  6.1562,  6.1812,\n",
              "         6.2062,  6.2312,  6.2563,  6.2813,  6.3063,  6.3313,  6.3564,  6.3814,\n",
              "         6.4064,  6.4314,  6.4565,  6.4815,  6.5065,  6.5315,  6.5566,  6.5816,\n",
              "         6.6066,  6.6316,  6.6567,  6.6817,  6.7067,  6.7317,  6.7568,  6.7818,\n",
              "         6.8068,  6.8318,  6.8569,  6.8819,  6.9069,  6.9319,  6.9570,  6.9820,\n",
              "         7.0070,  7.0320,  7.0571,  7.0821,  7.1071,  7.1321,  7.1572,  7.1822,\n",
              "         7.2072,  7.2322,  7.2573,  7.2823,  7.3073,  7.3323,  7.3574,  7.3824,\n",
              "         7.4074,  7.4324,  7.4575,  7.4825,  7.5075,  7.5325,  7.5576,  7.5826,\n",
              "         7.6076,  7.6326,  7.6577,  7.6827,  7.7077,  7.7327,  7.7578,  7.7828,\n",
              "         7.8078,  7.8328,  7.8579,  7.8829,  7.9079,  7.9329,  7.9580,  7.9830,\n",
              "         8.0080,  8.0330,  8.0581,  8.0831,  8.1081,  8.1331,  8.1582,  8.1832,\n",
              "         8.2082,  8.2332,  8.2583,  8.2833,  8.3083,  8.3333,  8.3584,  8.3834,\n",
              "         8.4084,  8.4334,  8.4585,  8.4835,  8.5085,  8.5335,  8.5586,  8.5836,\n",
              "         8.6086,  8.6336,  8.6587,  8.6837,  8.7087,  8.7337,  8.7588,  8.7838,\n",
              "         8.8088,  8.8338,  8.8589,  8.8839,  8.9089,  8.9339,  8.9590,  8.9840,\n",
              "         9.0090,  9.0340,  9.0591,  9.0841,  9.1091,  9.1341,  9.1592,  9.1842,\n",
              "         9.2092,  9.2342,  9.2593,  9.2843,  9.3093,  9.3343,  9.3594,  9.3844,\n",
              "         9.4094,  9.4344,  9.4595,  9.4845,  9.5095,  9.5345,  9.5596,  9.5846,\n",
              "         9.6096,  9.6346,  9.6597,  9.6847,  9.7097,  9.7347,  9.7598,  9.7848,\n",
              "         9.8098,  9.8348,  9.8599,  9.8849,  9.9099,  9.9349,  9.9600,  9.9850,\n",
              "        10.0100, 10.0350, 10.0601, 10.0851, 10.1101, 10.1351, 10.1602, 10.1852,\n",
              "        10.2102, 10.2352, 10.2603, 10.2853, 10.3103, 10.3353, 10.3604, 10.3854,\n",
              "        10.4104, 10.4354, 10.4605, 10.4855, 10.5105, 10.5355, 10.5606, 10.5856,\n",
              "        10.6106, 10.6356, 10.6607, 10.6857, 10.7107, 10.7357, 10.7608, 10.7858,\n",
              "        10.8108, 10.8358, 10.8609, 10.8859, 10.9109, 10.9359, 10.9610, 10.9860,\n",
              "        11.0110, 11.0360, 11.0611, 11.0861, 11.1111, 11.1361, 11.1612, 11.1862,\n",
              "        11.2112, 11.2362, 11.2613, 11.2863, 11.3113, 11.3363, 11.3614, 11.3864,\n",
              "        11.4114, 11.4364, 11.4615, 11.4865, 11.5115, 11.5365, 11.5616, 11.5866,\n",
              "        11.6116, 11.6366, 11.6617, 11.6867, 11.7117, 11.7367, 11.7618, 11.7868,\n",
              "        11.8118, 11.8368, 11.8619, 11.8869, 11.9119, 11.9369, 11.9620, 11.9870,\n",
              "        12.0120, 12.0370, 12.0621, 12.0871, 12.1121, 12.1371, 12.1622, 12.1872,\n",
              "        12.2122, 12.2372, 12.2623, 12.2873, 12.3123, 12.3373, 12.3624, 12.3874,\n",
              "        12.4124, 12.4374, 12.4625, 12.4875, 12.5125, 12.5375, 12.5626, 12.5876,\n",
              "        12.6126, 12.6376, 12.6627, 12.6877, 12.7127, 12.7377, 12.7628, 12.7878,\n",
              "        12.8128, 12.8378, 12.8629, 12.8879, 12.9129, 12.9379, 12.9630, 12.9880,\n",
              "        13.0130, 13.0380, 13.0631, 13.0881, 13.1131, 13.1381, 13.1632, 13.1882,\n",
              "        13.2132, 13.2382, 13.2633, 13.2883, 13.3133, 13.3383, 13.3634, 13.3884,\n",
              "        13.4134, 13.4384, 13.4635, 13.4885, 13.5135, 13.5385, 13.5636, 13.5886,\n",
              "        13.6136, 13.6386, 13.6637, 13.6887, 13.7137, 13.7387, 13.7638, 13.7888,\n",
              "        13.8138, 13.8388, 13.8639, 13.8889, 13.9139, 13.9389, 13.9640, 13.9890,\n",
              "        14.0140, 14.0390, 14.0641, 14.0891, 14.1141, 14.1391, 14.1642, 14.1892,\n",
              "        14.2142, 14.2392, 14.2643, 14.2893, 14.3143, 14.3393, 14.3644, 14.3894,\n",
              "        14.4144, 14.4394, 14.4645, 14.4895, 14.5145, 14.5395, 14.5646, 14.5896,\n",
              "        14.6146, 14.6396, 14.6647, 14.6897, 14.7147, 14.7397, 14.7648, 14.7898,\n",
              "        14.8148, 14.8398, 14.8649, 14.8899, 14.9149, 14.9399, 14.9650, 14.9900,\n",
              "        15.0150, 15.0400, 15.0651, 15.0901, 15.1151, 15.1401, 15.1652, 15.1902,\n",
              "        15.2152, 15.2402, 15.2653, 15.2903, 15.3153, 15.3403, 15.3654, 15.3904,\n",
              "        15.4154, 15.4404, 15.4655, 15.4905, 15.5155, 15.5405, 15.5656, 15.5906,\n",
              "        15.6156, 15.6406, 15.6657, 15.6907, 15.7157, 15.7407, 15.7658, 15.7908,\n",
              "        15.8158, 15.8408, 15.8659, 15.8909, 15.9159, 15.9409, 15.9660, 15.9910,\n",
              "        16.0160, 16.0410, 16.0661, 16.0911, 16.1161, 16.1411, 16.1662, 16.1912,\n",
              "        16.2162, 16.2412, 16.2663, 16.2913, 16.3163, 16.3413, 16.3664, 16.3914,\n",
              "        16.4164, 16.4414, 16.4665, 16.4915, 16.5165, 16.5415, 16.5666, 16.5916,\n",
              "        16.6166, 16.6416, 16.6667, 16.6917, 16.7167, 16.7417, 16.7668, 16.7918,\n",
              "        16.8168, 16.8418, 16.8669, 16.8919, 16.9169, 16.9419, 16.9670, 16.9920,\n",
              "        17.0170, 17.0420, 17.0671, 17.0921, 17.1171, 17.1421, 17.1672, 17.1922,\n",
              "        17.2172, 17.2422, 17.2673, 17.2923, 17.3173, 17.3423, 17.3674, 17.3924,\n",
              "        17.4174, 17.4424, 17.4675, 17.4925, 17.5175, 17.5425, 17.5676, 17.5926,\n",
              "        17.6176, 17.6426, 17.6677, 17.6927, 17.7177, 17.7427, 17.7678, 17.7928,\n",
              "        17.8178, 17.8428, 17.8679, 17.8929, 17.9179, 17.9429, 17.9680, 17.9930,\n",
              "        18.0180, 18.0430, 18.0681, 18.0931, 18.1181, 18.1431, 18.1682, 18.1932,\n",
              "        18.2182, 18.2432, 18.2683, 18.2933, 18.3183, 18.3433, 18.3684, 18.3934,\n",
              "        18.4184, 18.4434, 18.4685, 18.4935, 18.5185, 18.5435, 18.5686, 18.5936,\n",
              "        18.6186, 18.6436, 18.6687, 18.6937, 18.7187, 18.7437, 18.7688, 18.7938,\n",
              "        18.8188, 18.8438, 18.8689, 18.8939, 18.9189, 18.9439, 18.9690, 18.9940,\n",
              "        19.0190, 19.0440, 19.0691, 19.0941, 19.1191, 19.1441, 19.1692, 19.1942,\n",
              "        19.2192, 19.2442, 19.2693, 19.2943, 19.3193, 19.3443, 19.3694, 19.3944,\n",
              "        19.4194, 19.4444, 19.4695, 19.4945, 19.5195, 19.5445, 19.5696, 19.5946,\n",
              "        19.6196, 19.6446, 19.6697, 19.6947, 19.7197, 19.7447, 19.7698, 19.7948,\n",
              "        19.8198, 19.8448, 19.8699, 19.8949, 19.9199, 19.9449, 19.9700, 19.9950,\n",
              "        20.0200, 20.0450, 20.0701, 20.0951, 20.1201, 20.1451, 20.1702, 20.1952,\n",
              "        20.2202, 20.2452, 20.2703, 20.2953, 20.3203, 20.3453, 20.3704, 20.3954,\n",
              "        20.4204, 20.4454, 20.4705, 20.4955, 20.5205, 20.5455, 20.5706, 20.5956,\n",
              "        20.6206, 20.6456, 20.6707, 20.6957, 20.7207, 20.7457, 20.7708, 20.7958,\n",
              "        20.8208, 20.8458, 20.8709, 20.8959, 20.9209, 20.9459, 20.9710, 20.9960,\n",
              "        21.0210, 21.0460, 21.0711, 21.0961, 21.1211, 21.1461, 21.1712, 21.1962,\n",
              "        21.2212, 21.2462, 21.2713, 21.2963, 21.3213, 21.3463, 21.3714, 21.3964,\n",
              "        21.4214, 21.4464, 21.4715, 21.4965, 21.5215, 21.5465, 21.5716, 21.5966,\n",
              "        21.6216, 21.6466, 21.6717, 21.6967, 21.7217, 21.7467, 21.7718, 21.7968,\n",
              "        21.8218, 21.8468, 21.8719, 21.8969, 21.9219, 21.9469, 21.9720, 21.9970,\n",
              "        22.0220, 22.0470, 22.0721, 22.0971, 22.1221, 22.1471, 22.1722, 22.1972,\n",
              "        22.2222, 22.2472, 22.2723, 22.2973, 22.3223, 22.3473, 22.3724, 22.3974,\n",
              "        22.4224, 22.4474, 22.4725, 22.4975, 22.5225, 22.5475, 22.5726, 22.5976,\n",
              "        22.6226, 22.6476, 22.6727, 22.6977, 22.7227, 22.7477, 22.7728, 22.7978,\n",
              "        22.8228, 22.8478, 22.8729, 22.8979, 22.9229, 22.9479, 22.9730, 22.9980,\n",
              "        23.0230, 23.0480, 23.0731, 23.0981, 23.1231, 23.1481, 23.1732, 23.1982,\n",
              "        23.2232, 23.2482, 23.2733, 23.2983, 23.3233, 23.3483, 23.3734, 23.3984,\n",
              "        23.4234, 23.4484, 23.4735, 23.4985, 23.5235, 23.5485, 23.5736, 23.5986,\n",
              "        23.6236, 23.6486, 23.6737, 23.6987, 23.7237, 23.7487, 23.7738, 23.7988,\n",
              "        23.8238, 23.8488, 23.8739, 23.8989, 23.9239, 23.9489, 23.9740, 23.9990,\n",
              "        24.0240, 24.0490, 24.0741, 24.0991, 24.1241, 24.1492, 24.1742, 24.1992,\n",
              "        24.2242, 24.2492, 24.2743, 24.2993, 24.3243, 24.3493, 24.3744, 24.3994,\n",
              "        24.4244, 24.4494, 24.4745, 24.4995, 24.5245, 24.5496, 24.5746, 24.5996,\n",
              "        24.6246, 24.6496, 24.6747, 24.6997, 24.7247, 24.7498, 24.7748, 24.7998,\n",
              "        24.8248, 24.8498, 24.8749, 24.8999, 24.9249, 24.9499, 24.9750, 25.0000],\n",
              "       device='cuda:0')"
            ]
          },
          "metadata": {
            "tags": []
          },
          "execution_count": 10
        }
      ]
    },
    {
      "cell_type": "code",
      "metadata": {
        "id": "KNVeNl3tXjLl"
      },
      "source": [
        "class Lambda(nn.Module):\n",
        "\n",
        "    def forward(self, t, y):\n",
        "        return torch.mm(y**3, true_A)\n",
        "\n",
        "with torch.no_grad():\n",
        "    true_y = odeint(Lambda(), true_y0, t, method='dopri5')"
      ],
      "execution_count": 11,
      "outputs": []
    },
    {
      "cell_type": "code",
      "metadata": {
        "id": "Wvd-9vR_YOWO"
      },
      "source": [
        "def get_batch():\n",
        "    s = torch.from_numpy(np.random.choice(np.arange(args.data_size - args.batch_time, dtype=np.int64), args.batch_size, replace=False))\n",
        "    batch_y0 = true_y[s]  # (M, D)\n",
        "    batch_t = t[:args.batch_time]  # (T)\n",
        "    batch_y = torch.stack([true_y[s + i] for i in range(args.batch_time)], dim=0)  # (T, M, D)\n",
        "    return batch_y0.to(device), batch_t.to(device), batch_y.to(device)\n"
      ],
      "execution_count": 12,
      "outputs": []
    },
    {
      "cell_type": "code",
      "metadata": {
        "colab": {
          "base_uri": "https://localhost:8080/"
        },
        "id": "QHT6CJ8CjJLq",
        "outputId": "bc8a0ad5-129e-4448-9ced-84111fd9d66a"
      },
      "source": [
        "s = torch.from_numpy(np.random.choice(np.arange(args.data_size - args.batch_time, dtype=np.int64), args.batch_size, replace=False))\n",
        "s.shape"
      ],
      "execution_count": 14,
      "outputs": [
        {
          "output_type": "execute_result",
          "data": {
            "text/plain": [
              "torch.Size([20])"
            ]
          },
          "metadata": {
            "tags": []
          },
          "execution_count": 14
        }
      ]
    },
    {
      "cell_type": "code",
      "metadata": {
        "id": "p6iDiL29kl2S"
      },
      "source": [
        "batch_y = torch.stack([true_y[s + i] for i in range(args.batch_time)], dim=0)  # (T, M, D)"
      ],
      "execution_count": 39,
      "outputs": []
    },
    {
      "cell_type": "code",
      "metadata": {
        "colab": {
          "base_uri": "https://localhost:8080/"
        },
        "id": "SVia-6dak3Im",
        "outputId": "cbdae60f-e4de-4ccd-bae6-a805364d25da"
      },
      "source": [
        "batch_y.shape"
      ],
      "execution_count": 43,
      "outputs": [
        {
          "output_type": "execute_result",
          "data": {
            "text/plain": [
              "torch.Size([10, 20, 1, 2])"
            ]
          },
          "metadata": {
            "tags": []
          },
          "execution_count": 43
        }
      ]
    },
    {
      "cell_type": "code",
      "metadata": {
        "id": "Kib7kKyMYzs_"
      },
      "source": [
        "def makedirs(dirname):\n",
        "    if not os.path.exists(dirname):\n",
        "        os.makedirs(dirname)"
      ],
      "execution_count": 193,
      "outputs": []
    },
    {
      "cell_type": "code",
      "metadata": {
        "id": "ukztCwuKZriC"
      },
      "source": [
        "if args.viz:\n",
        "    makedirs('png')\n",
        "    import matplotlib.pyplot as plt\n",
        "    fig = plt.figure(figsize=(12, 4), facecolor='white')\n",
        "    ax_traj = fig.add_subplot(131, frameon=False)\n",
        "    ax_phase = fig.add_subplot(132, frameon=False)\n",
        "    ax_vecfield = fig.add_subplot(133, frameon=False)\n",
        "    plt.show(block=False)\n"
      ],
      "execution_count": 194,
      "outputs": []
    },
    {
      "cell_type": "code",
      "metadata": {
        "id": "Ee50zzXXZyTb"
      },
      "source": [
        "def visualize(true_y, pred_y, odefunc, itr):\n",
        "\n",
        "    if args.viz:\n",
        "\n",
        "        ax_traj.cla()\n",
        "        ax_traj.set_title('Trajectories')\n",
        "        ax_traj.set_xlabel('t')\n",
        "        ax_traj.set_ylabel('x,y')\n",
        "        ax_traj.plot(t.cpu().numpy(), true_y.cpu().numpy()[:, 0, 0], t.cpu().numpy(), true_y.cpu().numpy()[:, 0, 1], 'g-')\n",
        "        ax_traj.plot(t.cpu().numpy(), pred_y.cpu().numpy()[:, 0, 0], '--', t.cpu().numpy(), pred_y.cpu().numpy()[:, 0, 1], 'b--')\n",
        "        ax_traj.set_xlim(t.cpu().min(), t.cpu().max())\n",
        "        ax_traj.set_ylim(-2, 2)\n",
        "        ax_traj.legend()\n",
        "\n",
        "        ax_phase.cla()\n",
        "        ax_phase.set_title('Phase Portrait')\n",
        "        ax_phase.set_xlabel('x')\n",
        "        ax_phase.set_ylabel('y')\n",
        "        ax_phase.plot(true_y.cpu().numpy()[:, 0, 0], true_y.cpu().numpy()[:, 0, 1], 'g-')\n",
        "        ax_phase.plot(pred_y.cpu().numpy()[:, 0, 0], pred_y.cpu().numpy()[:, 0, 1], 'b--')\n",
        "        ax_phase.set_xlim(-2, 2)\n",
        "        ax_phase.set_ylim(-2, 2)\n",
        "\n",
        "        ax_vecfield.cla()\n",
        "        ax_vecfield.set_title('Learned Vector Field')\n",
        "        ax_vecfield.set_xlabel('x')\n",
        "        ax_vecfield.set_ylabel('y')\n",
        "\n",
        "        y, x = np.mgrid[-2:2:21j, -2:2:21j]\n",
        "        dydt = odefunc(0, torch.Tensor(np.stack([x, y], -1).reshape(21 * 21, 2)).to(device)).cpu().detach().numpy()\n",
        "        mag = np.sqrt(dydt[:, 0]**2 + dydt[:, 1]**2).reshape(-1, 1)\n",
        "        dydt = (dydt / mag)\n",
        "        dydt = dydt.reshape(21, 21, 2)\n",
        "\n",
        "        ax_vecfield.streamplot(x, y, dydt[:, :, 0], dydt[:, :, 1], color=\"black\")\n",
        "        ax_vecfield.set_xlim(-2, 2)\n",
        "        ax_vecfield.set_ylim(-2, 2)\n",
        "\n",
        "        fig.tight_layout()\n",
        "        plt.savefig('png/{:03d}'.format(itr))\n",
        "        plt.draw()\n",
        "        plt.pause(0.001)\n"
      ],
      "execution_count": 195,
      "outputs": []
    },
    {
      "cell_type": "code",
      "metadata": {
        "id": "bT7yjWOrZ0Sk"
      },
      "source": [
        "class ODEFunc(nn.Module):\n",
        "\n",
        "    def __init__(self):\n",
        "        super(ODEFunc, self).__init__()\n",
        "\n",
        "        self.net = nn.Sequential(\n",
        "            nn.Linear(2, 50),\n",
        "            nn.Tanh(),\n",
        "            nn.Linear(50, 2),\n",
        "        )\n",
        "\n",
        "        for m in self.net.modules():\n",
        "            if isinstance(m, nn.Linear):\n",
        "                nn.init.normal_(m.weight, mean=0, std=0.1)\n",
        "                nn.init.constant_(m.bias, val=0)\n",
        "\n",
        "    def forward(self, t, y):\n",
        "        return self.net(y**3)"
      ],
      "execution_count": 196,
      "outputs": []
    },
    {
      "cell_type": "code",
      "metadata": {
        "id": "elVphQwBbruF"
      },
      "source": [
        "class RunningAverageMeter(object):\n",
        "    \"\"\"Computes and stores the average and current value\"\"\"\n",
        "\n",
        "    def __init__(self, momentum=0.99):\n",
        "        self.momentum = momentum\n",
        "        self.reset()\n",
        "\n",
        "    def reset(self):\n",
        "        self.val = None\n",
        "        self.avg = 0\n",
        "\n",
        "    def update(self, val):\n",
        "        if self.val is None:\n",
        "            self.avg = val\n",
        "        else:\n",
        "            self.avg = self.avg * self.momentum + val * (1 - self.momentum)\n",
        "        self.val = val"
      ],
      "execution_count": 197,
      "outputs": []
    },
    {
      "cell_type": "code",
      "metadata": {
        "colab": {
          "base_uri": "https://localhost:8080/"
        },
        "id": "lurwyt8kb-le",
        "outputId": "59b04544-e80f-468d-f3da-d3f3d8b94ca1"
      },
      "source": [
        "if __name__ == '__main__':\n",
        "  ii = 0\n",
        "  func = ODEFunc().to(device)\n",
        "  optimizer = optim.RMSprop(func.parameters(), lr=1e-3)\n",
        "  end = time.time()\n",
        "  time_meter = RunningAverageMeter(0.97)\n",
        "    \n",
        "  loss_meter = RunningAverageMeter(0.97)\n",
        "\n",
        "  for itr in range(1, args.niters + 1):\n",
        "        optimizer.zero_grad()\n",
        "        batch_y0, batch_t, batch_y = get_batch()\n",
        "        pred_y = odeint(func, batch_y0, batch_t).to(device)\n",
        "        loss = torch.mean(torch.abs(pred_y - batch_y))\n",
        "        loss.backward()\n",
        "        optimizer.step()\n",
        "\n",
        "        time_meter.update(time.time() - end)\n",
        "        loss_meter.update(loss.item())\n",
        "\n",
        "        if itr % args.test_freq == 0:\n",
        "            with torch.no_grad():\n",
        "                pred_y = odeint(func, true_y0, t)\n",
        "                loss = torch.mean(torch.abs(pred_y - true_y))\n",
        "                print('Iter {:04d} | Total Loss {:.6f}'.format(itr, loss.item()))\n",
        "                visualize(true_y, pred_y, func, ii)\n",
        "                ii += 1\n",
        "\n",
        "        end = time.time()\n",
        "\n",
        "\n",
        "\n",
        "\n"
      ],
      "execution_count": 198,
      "outputs": [
        {
          "output_type": "stream",
          "text": [
            "Iter 0020 | Total Loss 0.628735\n",
            "Iter 0040 | Total Loss 0.710426\n",
            "Iter 0060 | Total Loss 0.957831\n",
            "Iter 0080 | Total Loss 0.793954\n",
            "Iter 0100 | Total Loss 0.242254\n",
            "Iter 0120 | Total Loss 0.770080\n",
            "Iter 0140 | Total Loss 0.368988\n",
            "Iter 0160 | Total Loss 0.741123\n",
            "Iter 0180 | Total Loss 0.421135\n",
            "Iter 0200 | Total Loss 0.297264\n",
            "Iter 0220 | Total Loss 0.360812\n",
            "Iter 0240 | Total Loss 0.416897\n",
            "Iter 0260 | Total Loss 0.194766\n",
            "Iter 0280 | Total Loss 0.238816\n",
            "Iter 0300 | Total Loss 0.191598\n",
            "Iter 0320 | Total Loss 0.670691\n",
            "Iter 0340 | Total Loss 0.376499\n",
            "Iter 0360 | Total Loss 0.188519\n",
            "Iter 0380 | Total Loss 0.224572\n",
            "Iter 0400 | Total Loss 0.475061\n",
            "Iter 0420 | Total Loss 0.702798\n",
            "Iter 0440 | Total Loss 0.166920\n",
            "Iter 0460 | Total Loss 0.673048\n",
            "Iter 0480 | Total Loss 0.231554\n",
            "Iter 0500 | Total Loss 0.195185\n",
            "Iter 0520 | Total Loss 0.305168\n",
            "Iter 0540 | Total Loss 0.319387\n",
            "Iter 0560 | Total Loss 0.231433\n",
            "Iter 0580 | Total Loss 0.224575\n",
            "Iter 0600 | Total Loss 0.164221\n",
            "Iter 0620 | Total Loss 0.604486\n",
            "Iter 0640 | Total Loss 0.159197\n",
            "Iter 0660 | Total Loss 0.225247\n",
            "Iter 0680 | Total Loss 0.163053\n",
            "Iter 0700 | Total Loss 0.724149\n",
            "Iter 0720 | Total Loss 0.143519\n",
            "Iter 0740 | Total Loss 0.266877\n",
            "Iter 0760 | Total Loss 0.349708\n",
            "Iter 0780 | Total Loss 0.165408\n",
            "Iter 0800 | Total Loss 0.167187\n",
            "Iter 0820 | Total Loss 0.476598\n",
            "Iter 0840 | Total Loss 0.555458\n",
            "Iter 0860 | Total Loss 0.495606\n",
            "Iter 0880 | Total Loss 0.312558\n",
            "Iter 0900 | Total Loss 0.553027\n",
            "Iter 0920 | Total Loss 0.286488\n",
            "Iter 0940 | Total Loss 0.532027\n",
            "Iter 0960 | Total Loss 0.280817\n",
            "Iter 0980 | Total Loss 0.360550\n",
            "Iter 1000 | Total Loss 0.731059\n",
            "Iter 1020 | Total Loss 0.249892\n",
            "Iter 1040 | Total Loss 0.119120\n",
            "Iter 1060 | Total Loss 0.730152\n",
            "Iter 1080 | Total Loss 0.225313\n",
            "Iter 1100 | Total Loss 0.516455\n",
            "Iter 1120 | Total Loss 0.305253\n",
            "Iter 1140 | Total Loss 0.334287\n",
            "Iter 1160 | Total Loss 0.342850\n",
            "Iter 1180 | Total Loss 0.663018\n",
            "Iter 1200 | Total Loss 0.405056\n",
            "Iter 1220 | Total Loss 0.415356\n",
            "Iter 1240 | Total Loss 0.589525\n",
            "Iter 1260 | Total Loss 0.412771\n",
            "Iter 1280 | Total Loss 0.340151\n",
            "Iter 1300 | Total Loss 0.706568\n",
            "Iter 1320 | Total Loss 0.079067\n",
            "Iter 1340 | Total Loss 0.208745\n",
            "Iter 1360 | Total Loss 0.115968\n",
            "Iter 1380 | Total Loss 0.709516\n",
            "Iter 1400 | Total Loss 0.554592\n",
            "Iter 1420 | Total Loss 0.099243\n",
            "Iter 1440 | Total Loss 0.289003\n",
            "Iter 1460 | Total Loss 0.179362\n",
            "Iter 1480 | Total Loss 0.137137\n",
            "Iter 1500 | Total Loss 0.086839\n",
            "Iter 1520 | Total Loss 0.092888\n",
            "Iter 1540 | Total Loss 0.340887\n",
            "Iter 1560 | Total Loss 0.271204\n",
            "Iter 1580 | Total Loss 0.113003\n",
            "Iter 1600 | Total Loss 0.306672\n",
            "Iter 1620 | Total Loss 0.618817\n",
            "Iter 1640 | Total Loss 0.420520\n",
            "Iter 1660 | Total Loss 0.736122\n",
            "Iter 1680 | Total Loss 0.368630\n",
            "Iter 1700 | Total Loss 0.733535\n",
            "Iter 1720 | Total Loss 0.203496\n",
            "Iter 1740 | Total Loss 0.431633\n",
            "Iter 1760 | Total Loss 0.078730\n",
            "Iter 1780 | Total Loss 0.187366\n",
            "Iter 1800 | Total Loss 0.542266\n",
            "Iter 1820 | Total Loss 0.077155\n",
            "Iter 1840 | Total Loss 0.242570\n",
            "Iter 1860 | Total Loss 0.271693\n",
            "Iter 1880 | Total Loss 0.138471\n",
            "Iter 1900 | Total Loss 0.268517\n",
            "Iter 1920 | Total Loss 0.388109\n",
            "Iter 1940 | Total Loss 0.130967\n",
            "Iter 1960 | Total Loss 0.737016\n",
            "Iter 1980 | Total Loss 0.388449\n",
            "Iter 2000 | Total Loss 0.065445\n"
          ],
          "name": "stdout"
        }
      ]
    },
    {
      "cell_type": "code",
      "metadata": {
        "id": "nnJMEyzucNCA"
      },
      "source": [
        "s = torch.from_numpy(np.random.choice(np.arange(args.data_size - args.batch_time, dtype=np.int64), args.batch_size, replace=False))"
      ],
      "execution_count": 175,
      "outputs": []
    },
    {
      "cell_type": "code",
      "metadata": {
        "colab": {
          "base_uri": "https://localhost:8080/"
        },
        "id": "nYdKtauicN41",
        "outputId": "3bcca33c-82e9-4094-8c86-3ef334457dce"
      },
      "source": [
        "batch_y0.shape"
      ],
      "execution_count": 177,
      "outputs": [
        {
          "output_type": "execute_result",
          "data": {
            "text/plain": [
              "torch.Size([20, 1, 2])"
            ]
          },
          "metadata": {
            "tags": []
          },
          "execution_count": 177
        }
      ]
    },
    {
      "cell_type": "code",
      "metadata": {
        "colab": {
          "base_uri": "https://localhost:8080/"
        },
        "id": "9eOS5N7TeaVG",
        "outputId": "1633f316-1db4-48d1-a46f-1ab6a82c774f"
      },
      "source": [
        "batch_t.shape"
      ],
      "execution_count": 178,
      "outputs": [
        {
          "output_type": "execute_result",
          "data": {
            "text/plain": [
              "torch.Size([10])"
            ]
          },
          "metadata": {
            "tags": []
          },
          "execution_count": 178
        }
      ]
    },
    {
      "cell_type": "code",
      "metadata": {
        "colab": {
          "base_uri": "https://localhost:8080/"
        },
        "id": "8dXNKgtxf08E",
        "outputId": "9c0693d7-eaa8-4caa-96e5-b2affaeab456"
      },
      "source": [
        "batch_y.shape"
      ],
      "execution_count": 179,
      "outputs": [
        {
          "output_type": "execute_result",
          "data": {
            "text/plain": [
              "torch.Size([10, 20, 1, 2])"
            ]
          },
          "metadata": {
            "tags": []
          },
          "execution_count": 179
        }
      ]
    },
    {
      "cell_type": "code",
      "metadata": {
        "colab": {
          "base_uri": "https://localhost:8080/"
        },
        "id": "MKf4jL1af3mY",
        "outputId": "0f298d2f-e7ab-4b9f-a768-2646411e7b43"
      },
      "source": [
        "ls"
      ],
      "execution_count": 181,
      "outputs": [
        {
          "output_type": "stream",
          "text": [
            "test_bballs.sh            test_mocap_single.sh       train_mocap_many.sh\n",
            "test_mnist_nonuniform.sh  train_bballs.sh            train_mocap_single.sh\n",
            "test_mnist.sh             train_mnist_nonuniform.sh\n",
            "test_mocap_many.sh        train_mnist.sh\n"
          ],
          "name": "stdout"
        }
      ]
    },
    {
      "cell_type": "code",
      "metadata": {
        "colab": {
          "base_uri": "https://localhost:8080/"
        },
        "id": "ZpQTDPAwg5vW",
        "outputId": "afd193c2-5e67-467f-b066-f28f651bbca0"
      },
      "source": [
        "ls"
      ],
      "execution_count": 1,
      "outputs": [
        {
          "output_type": "stream",
          "text": [
            "\u001b[0m\u001b[01;34msample_data\u001b[0m/\n"
          ],
          "name": "stdout"
        }
      ]
    },
    {
      "cell_type": "code",
      "metadata": {
        "id": "AINohxiIsU7a"
      },
      "source": [
        "1+1"
      ],
      "execution_count": null,
      "outputs": []
    },
    {
      "cell_type": "code",
      "metadata": {
        "id": "9elDatFiNSHT"
      },
      "source": [
        ""
      ],
      "execution_count": null,
      "outputs": []
    }
  ]
}